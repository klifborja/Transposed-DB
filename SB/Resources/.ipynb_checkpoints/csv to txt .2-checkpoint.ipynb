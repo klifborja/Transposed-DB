{
 "cells": [
  {
   "cell_type": "code",
   "execution_count": 147,
   "metadata": {},
   "outputs": [],
   "source": [
    "import csv\n",
    "import os\n",
    "import pandas as pd\n",
    "from sys import argv\n",
    "from datetime import date, timedelta, datetime"
   ]
  },
  {
   "cell_type": "code",
   "execution_count": 148,
   "metadata": {},
   "outputs": [],
   "source": [
    "ifile = \"PaperCutDailyLogs.csv\"\n",
    "ofile = \"papercut.csv\""
   ]
  },
  {
   "cell_type": "code",
   "execution_count": 149,
   "metadata": {},
   "outputs": [],
   "source": [
    "if len(argv) > 2:\n",
    "\tifile = argv[1]\n",
    "\tofile = argv[2]\n",
    " #ufile = argv[3]"
   ]
  },
  {
   "cell_type": "code",
   "execution_count": 150,
   "metadata": {},
   "outputs": [
    {
     "ename": "FileNotFoundError",
     "evalue": "[Errno 2] No such file or directory: '-f'",
     "output_type": "error",
     "traceback": [
      "\u001b[0;31m---------------------------------------------------------------------------\u001b[0m",
      "\u001b[0;31mFileNotFoundError\u001b[0m                         Traceback (most recent call last)",
      "\u001b[0;32m<ipython-input-150-566b775e81fc>\u001b[0m in \u001b[0;36m<module>\u001b[0;34m\u001b[0m\n\u001b[1;32m      2\u001b[0m \u001b[0;31m# print(\"OFILE: \" + ofile + \"\\r\\n\")\u001b[0m\u001b[0;34m\u001b[0m\u001b[0;34m\u001b[0m\u001b[0;34m\u001b[0m\u001b[0m\n\u001b[1;32m      3\u001b[0m \u001b[0;31m#f = open (ifile, \"rt\")\u001b[0m\u001b[0;34m\u001b[0m\u001b[0;34m\u001b[0m\u001b[0;34m\u001b[0m\u001b[0m\n\u001b[0;32m----> 4\u001b[0;31m \u001b[0;32mwith\u001b[0m \u001b[0mopen\u001b[0m\u001b[0;34m(\u001b[0m\u001b[0mifile\u001b[0m\u001b[0;34m)\u001b[0m \u001b[0;32mas\u001b[0m \u001b[0mf\u001b[0m\u001b[0;34m:\u001b[0m\u001b[0;34m\u001b[0m\u001b[0;34m\u001b[0m\u001b[0m\n\u001b[0m\u001b[1;32m      5\u001b[0m     \u001b[0mreader\u001b[0m \u001b[0;34m=\u001b[0m \u001b[0mcsv\u001b[0m\u001b[0;34m.\u001b[0m\u001b[0mreader\u001b[0m\u001b[0;34m(\u001b[0m\u001b[0mf\u001b[0m\u001b[0;34m)\u001b[0m\u001b[0;34m\u001b[0m\u001b[0;34m\u001b[0m\u001b[0m\n\u001b[1;32m      6\u001b[0m     \u001b[0mreader_list\u001b[0m \u001b[0;34m=\u001b[0m \u001b[0mlist\u001b[0m\u001b[0;34m(\u001b[0m\u001b[0mreader\u001b[0m\u001b[0;34m)\u001b[0m\u001b[0;34m\u001b[0m\u001b[0;34m\u001b[0m\u001b[0m\n",
      "\u001b[0;31mFileNotFoundError\u001b[0m: [Errno 2] No such file or directory: '-f'"
     ]
    }
   ],
   "source": [
    "# print(\"IFILE: \" + ifile + \"\\r\\n\")\n",
    "# print(\"OFILE: \" + ofile + \"\\r\\n\")\n",
    "#f = open (ifile, \"rt\")\n",
    "with open(ifile) as f:\n",
    "    reader = csv.reader(f)\n",
    "    reader_list = list(reader)\n",
    "    reader_list.pop(0)\n",
    "    reader_list.pop(0)\n",
    "    reader_list.pop(0)"
   ]
  },
  {
   "cell_type": "code",
   "execution_count": 143,
   "metadata": {},
   "outputs": [],
   "source": [
    "outfile = open(ofile, \"w\", newline='')"
   ]
  },
  {
   "cell_type": "code",
   "execution_count": 144,
   "metadata": {},
   "outputs": [],
   "source": [
    "#d = (date.today() - timedelta(days=1)).strftime('%m/%d/%Y')"
   ]
  },
  {
   "cell_type": "code",
   "execution_count": 145,
   "metadata": {},
   "outputs": [],
   "source": [
    "for line in reader_list:\n",
    "\tRecordDate = line[0]\n",
    "\tUsername = line[1]\n",
    "\tFullName = line[2]\n",
    "\tUserOffice = line[3]\n",
    "\tUserDepartment = line[4]\n",
    "\tEmail = line[5]\n",
    "\tPrimaryCardNumber = line[6]\n",
    "\tChargedAccount = line[7]\n",
    "\tSharedAccountName = line[8]\n",
    "\tSharedAcountCode = line[9]\n",
    "\tSharedAcountParentName = line[10]\n",
    "\tSharedAcountParentCode = line[11]\n",
    "\tSharedAcountSubName = line[12]\n",
    "\tSharedAccountSubCode = line[13]\n",
    "\tPrintServer = line[14]\n",
    "\tPrinterName = line[15]\n",
    "\tPhysicalPrinterIdentifier = line[16]\n",
    "\tPrinterTypeModel = line[17]\n",
    "\tPrinterSerialNumber = line[18]\n",
    "\tDocument = line[19]\n",
    "\tUseType = line[20]\n",
    "\tTotalPrintedPages = line[21]\n",
    "\tTotalColorPages = line[22]\n",
    "\tTotalBWPages = str(int(TotalPrintedPages) - int(TotalColorPages))\n",
    "\tColorPagesEstimated = line[23]\n",
    "\tCopies = line[24]\n",
    "\tCost = line[25]\n",
    "\tPaperSize = line[26]\n",
    "\tPaperWidth = line[27]\n",
    "\tPaperHeight = line[28]\n",
    "\tDuplex = line[29]\n",
    "\tGrayscale = line[30]\n",
    "\tInvoiced = line[31]\n",
    "\tClient = line[32]\n",
    "\tSize = line[33]\n",
    "\tPrinterLanguage = line[34]\n",
    "\tComment = line[35]\n",
    "\tPrinted = line[36]\n",
    "\tCancelled = line[37]\n",
    "\tRefund = line[38]\n",
    "\tAllowed = line[39]\n",
    "\tDeniedReason = line[40]\n",
    "\tArchived = line[41]\n",
    "\tOffline = line[42]\n",
    "\td = datetime.strptime(RecordDate,'%m/%d/%y %H:%M')"
   ]
  },
  {
   "cell_type": "code",
   "execution_count": 146,
   "metadata": {},
   "outputs": [],
   "source": [
    "if UseType == \"PRINT\" or UseType == \"COPY\":\n",
    "\t\tif TotalColorPages != \"0\" and SharedAcountCode != \"\" and SharedAcountCode != \"In-House Account\":\n",
    "\t\t\toutfile.write(\"RecordDate\"), outfile.write(d.strftime('%m/%d/%y %H:%M') + \"\\n\" + SharedAcountCode + \"\\n\" + TotalColorPages  + \"\\n\" + CostEa + \"\\n\" + Cost + \"\\n\" + UseType + \"-\\n\" + \"-\\n\" + SharedAccountName + \"\\n\" + TotalPrintedPages + \"PAGES\" + \"\\n\" + \"\\n\")\n",
    "\t\tif TotalBWPages != \"0\" and SharedAcountCode != \"\" and SharedAcountCode != \"In-House Account\":\n",
    "\t\t\toutfile.write(\"RecordDate\"), outfile.write(d.strftime('%m/%d/%y %H:%M') + \"\\n\" + SharedAcountCode + \"\\n\" + TotalBWPages  + \"\\n\" + CostEa + \"\\n\" + Cost + \"\\n\" + UseType + \"-\\n\" + \"-\\n\" + SharedAccountName + \"\\n\" + TotalPrintedPages + \"PAGES\" + \"\\n\" + \"\\n\")"
   ]
  },
  {
   "cell_type": "code",
   "execution_count": null,
   "metadata": {},
   "outputs": [],
   "source": []
  }
 ],
 "metadata": {
  "kernelspec": {
   "display_name": "Python 3",
   "language": "python",
   "name": "python3"
  },
  "language_info": {
   "codemirror_mode": {
    "name": "ipython",
    "version": 3
   },
   "file_extension": ".py",
   "mimetype": "text/x-python",
   "name": "python",
   "nbconvert_exporter": "python",
   "pygments_lexer": "ipython3",
   "version": "3.7.6"
  }
 },
 "nbformat": 4,
 "nbformat_minor": 4
}
